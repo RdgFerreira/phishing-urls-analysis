{
 "cells": [
  {
   "cell_type": "code",
   "execution_count": 18,
   "metadata": {},
   "outputs": [],
   "source": [
    "import pandas as pd\n",
    "import numpy as np\n",
    "import re\n",
    "import matplotlib.pyplot as plt\n",
    "import csv"
   ]
  },
  {
   "cell_type": "code",
   "execution_count": 4,
   "metadata": {},
   "outputs": [],
   "source": [
    "import sys\n",
    "maxInt = sys.maxsize\n",
    "\n",
    "while True:\n",
    "    # decrease the maxInt value by factor 10 \n",
    "    # as long as the OverflowError occurs.\n",
    "\n",
    "    try:\n",
    "        csv.field_size_limit(maxInt)\n",
    "        break\n",
    "    except OverflowError:\n",
    "        maxInt = int(maxInt/10)"
   ]
  },
  {
   "cell_type": "code",
   "execution_count": 3,
   "metadata": {},
   "outputs": [],
   "source": [
    "# create main dataset and describe its header\n",
    "# with open('main.csv', 'w', newline='', encoding='utf-8') as main_csv:\n",
    "#     writer = csv.writer(main_csv)\n",
    "#     writer.writerow(['url', 'label']) # 0 - bening, 1 - phishing, 2 - defacement, 3 - malware"
   ]
  },
  {
   "cell_type": "code",
   "execution_count": 32,
   "metadata": {},
   "outputs": [
    {
     "name": "stdout",
     "output_type": "stream",
     "text": [
      "Number of rows: 95910\n",
      "5% rows processed\n",
      "10% rows processed\n",
      "15% rows processed\n",
      "20% rows processed\n",
      "25% rows processed\n",
      "30% rows processed\n",
      "35% rows processed\n",
      "40% rows processed\n",
      "44% rows processed\n",
      "49% rows processed\n",
      "54% rows processed\n",
      "60% rows processed\n",
      "65% rows processed\n",
      "70% rows processed\n",
      "75% rows processed\n",
      "80% rows processed\n",
      "85% rows processed\n",
      "90% rows processed\n",
      "95% rows processed\n",
      "done\n"
     ]
    }
   ],
   "source": [
    "# Process the combined_dataset.csv file to main csv accordingly\n",
    "with open('data/combined_dataset.csv', 'r', encoding='utf-8') as combined_dataset:\n",
    "    reader = csv.reader(combined_dataset)\n",
    "    # skips the header\n",
    "    next(reader)\n",
    "    \n",
    "    size = len(pd.read_csv('data/combined_dataset.csv'))\n",
    "    print(f\"Number of rows: {size}\")\n",
    "    \n",
    "    counter = 1\n",
    "    progress = 0.05\n",
    "    for row in reader:\n",
    "        if counter/size >= progress:\n",
    "            print(f\"{int(progress*100)}% rows processed\")\n",
    "            progress += 0.05\n",
    "        url = row[0]\n",
    "        label = row[-1]\n",
    "        with open('main.csv', 'a', newline='', encoding='utf-8') as main_csv:\n",
    "            writer = csv.writer(main_csv)\n",
    "            writer.writerow([url, label])\n",
    "        counter += 1\n",
    "    print(\"done\")"
   ]
  },
  {
   "cell_type": "code",
   "execution_count": 33,
   "metadata": {},
   "outputs": [
    {
     "name": "stdout",
     "output_type": "stream",
     "text": [
      "Number of rows: 11430\n",
      "5% rows processed\n",
      "10% rows processed\n",
      "15% rows processed\n",
      "20% rows processed\n",
      "25% rows processed\n",
      "30% rows processed\n",
      "35% rows processed\n",
      "40% rows processed\n",
      "44% rows processed\n",
      "49% rows processed\n",
      "54% rows processed\n",
      "60% rows processed\n",
      "65% rows processed\n",
      "70% rows processed\n",
      "75% rows processed\n",
      "80% rows processed\n",
      "85% rows processed\n",
      "90% rows processed\n",
      "95% rows processed\n",
      "done\n"
     ]
    }
   ],
   "source": [
    "# Process the dataset_phishing.csv file to main csv accordingly\n",
    "with open('data/dataset_phishing.csv', 'r', encoding='utf-8') as dataset_phishing:\n",
    "    reader = csv.reader(dataset_phishing)\n",
    "    next(reader)\n",
    "\n",
    "    size = len(pd.read_csv('data/dataset_phishing.csv'))\n",
    "    print(f\"Number of rows: {size}\")\n",
    "    \n",
    "    counter = 1\n",
    "    progress = 0.05\n",
    "    for row in reader:\n",
    "        if counter/size >= progress:\n",
    "            print(f\"{int(progress*100)}% rows processed\")\n",
    "            progress += 0.05\n",
    "        url = row[0]\n",
    "        label = row[-1]\n",
    "        if label[0] == 'l': label = 0 # 'legitimate'\n",
    "        else: label = 1 # 'phishing'\n",
    "        with open('main.csv', 'a', newline='', encoding='utf-8') as main_csv:\n",
    "            writer = csv.writer(main_csv)\n",
    "            writer.writerow([url, label])\n",
    "        counter += 1\n",
    "    print(\"done\")"
   ]
  },
  {
   "cell_type": "code",
   "execution_count": 34,
   "metadata": {},
   "outputs": [
    {
     "name": "stdout",
     "output_type": "stream",
     "text": [
      "Number of rows: 651191\n",
      "5% rows processed\n",
      "10% rows processed\n",
      "15% rows processed\n",
      "20% rows processed\n",
      "25% rows processed\n",
      "30% rows processed\n",
      "35% rows processed\n",
      "40% rows processed\n",
      "44% rows processed\n",
      "49% rows processed\n",
      "54% rows processed\n",
      "60% rows processed\n",
      "65% rows processed\n",
      "70% rows processed\n",
      "75% rows processed\n",
      "80% rows processed\n",
      "85% rows processed\n",
      "90% rows processed\n",
      "95% rows processed\n",
      "done\n"
     ]
    }
   ],
   "source": [
    "# Process the malicious_phish.csv file to main csv accordingly\n",
    "with open('data/malicious_phish.csv', 'r', encoding='utf-8') as malicious_phish:\n",
    "    reader = csv.reader(malicious_phish)\n",
    "    next(reader)\n",
    "    \n",
    "    size = len(pd.read_csv('data/malicious_phish.csv'))\n",
    "    print(f\"Number of rows: {size}\")\n",
    "    \n",
    "    counter = 1\n",
    "    progress = 0.05\n",
    "    for row in reader:\n",
    "        if counter/size >= progress:\n",
    "            print(f\"{int(progress*100)}% rows processed\")\n",
    "            progress += 0.05\n",
    "        url = row[0]\n",
    "        label = row[-1]\n",
    "        if label[0] == 'b': label = 0 # 'benign'\n",
    "        elif label[0] == 'p': label = 1 # 'phishing'\n",
    "        elif label[0] == 'd': label = 2 # 'defacement'\n",
    "        else: label = 3 # 'malware'\n",
    "        with open('main.csv', 'a', newline='', encoding='utf-8') as main_csv:\n",
    "            writer = csv.writer(main_csv)\n",
    "            writer.writerow([url, label])\n",
    "        counter += 1\n",
    "    print(\"done\")"
   ]
  },
  {
   "cell_type": "code",
   "execution_count": 35,
   "metadata": {},
   "outputs": [
    {
     "name": "stdout",
     "output_type": "stream",
     "text": [
      "Number of rows: 11481\n",
      "5% rows processed\n",
      "10% rows processed\n",
      "15% rows processed\n",
      "20% rows processed\n",
      "25% rows processed\n",
      "30% rows processed\n",
      "35% rows processed\n",
      "40% rows processed\n",
      "44% rows processed\n",
      "49% rows processed\n",
      "54% rows processed\n",
      "60% rows processed\n",
      "65% rows processed\n",
      "70% rows processed\n",
      "75% rows processed\n",
      "80% rows processed\n",
      "85% rows processed\n",
      "90% rows processed\n",
      "95% rows processed\n",
      "done\n"
     ]
    }
   ],
   "source": [
    "# Process the phishing_data.csv file to main csv accordingly\n",
    "with open('data/phishing_data.csv', 'r', encoding='utf-8') as phishing_data:\n",
    "    reader = csv.reader(phishing_data)\n",
    "    next(reader)\n",
    "    \n",
    "    size = len(pd.read_csv('data/phishing_data.csv'))\n",
    "    print(f\"Number of rows: {size}\")\n",
    "    \n",
    "    counter = 1\n",
    "    progress = 0.05\n",
    "    for row in reader:\n",
    "        if counter/size >= progress:\n",
    "            print(f\"{int(progress*100)}% rows processed\")\n",
    "            progress += 0.05\n",
    "        url = row[0]\n",
    "        label = row[-1]\n",
    "        if label[0] == 'l': label = 0 # 'legitimate'\n",
    "        else: label = 1 # 'phishing'\n",
    "        with open('main.csv', 'a', newline='', encoding='utf-8') as main_csv:\n",
    "            writer = csv.writer(main_csv)\n",
    "            writer.writerow([url, label])\n",
    "        counter += 1\n",
    "    print(\"done\")"
   ]
  },
  {
   "cell_type": "code",
   "execution_count": 36,
   "metadata": {},
   "outputs": [
    {
     "name": "stdout",
     "output_type": "stream",
     "text": [
      "Number of rows: 549346\n",
      "5% rows processed\n",
      "10% rows processed\n",
      "15% rows processed\n",
      "20% rows processed\n",
      "25% rows processed\n",
      "30% rows processed\n",
      "35% rows processed\n",
      "40% rows processed\n",
      "44% rows processed\n",
      "49% rows processed\n",
      "54% rows processed\n",
      "60% rows processed\n",
      "65% rows processed\n",
      "70% rows processed\n",
      "75% rows processed\n",
      "80% rows processed\n",
      "85% rows processed\n",
      "90% rows processed\n",
      "95% rows processed\n",
      "done\n"
     ]
    }
   ],
   "source": [
    "# Process the phishing_site_urls.csv file to main csv accordingly\n",
    "with open('data/phishing_site_urls.csv', 'r', encoding='utf-8') as phishing_site_urls:\n",
    "    reader = csv.reader(phishing_site_urls)\n",
    "    next(reader)\n",
    "    \n",
    "    size = len(pd.read_csv('data/phishing_site_urls.csv'))\n",
    "    print(f\"Number of rows: {size}\")\n",
    "    \n",
    "    counter = 1\n",
    "    progress = 0.05\n",
    "    for row in reader:\n",
    "        if counter/size >= progress:\n",
    "            print(f\"{int(progress*100)}% rows processed\")\n",
    "            progress += 0.05\n",
    "        url = row[0]\n",
    "        label = row[-1]\n",
    "        if label[0] == 'g': label = 0 # 'good'\n",
    "        else: label = 1 # 'bad'\n",
    "        with open('main.csv', 'a', newline='', encoding='utf-8') as main_csv:\n",
    "            writer = csv.writer(main_csv)\n",
    "            writer.writerow([url, label])\n",
    "        counter += 1\n",
    "    print(\"done\")   "
   ]
  },
  {
   "cell_type": "code",
   "execution_count": 45,
   "metadata": {},
   "outputs": [
    {
     "name": "stdout",
     "output_type": "stream",
     "text": [
      "Number of rows: 18650\n",
      "5% rows processed\n",
      "10% rows processed\n",
      "15% rows processed\n",
      "20% rows processed\n",
      "25% rows processed\n",
      "30% rows processed\n",
      "35% rows processed\n",
      "40% rows processed\n",
      "44% rows processed\n",
      "49% rows processed\n",
      "54% rows processed\n",
      "60% rows processed\n",
      "65% rows processed\n",
      "70% rows processed\n",
      "75% rows processed\n",
      "80% rows processed\n",
      "85% rows processed\n",
      "90% rows processed\n",
      "95% rows processed\n",
      "done\n"
     ]
    }
   ],
   "source": [
    "# Process the PhishingEmail.csv file to main csv accordingly\n",
    "with open('data/PhishingEmail.csv', 'r', encoding='utf-8') as PhishingEmail:\n",
    "    reader = csv.reader(PhishingEmail)\n",
    "    next(reader)\n",
    "    \n",
    "    size = len(pd.read_csv('data/PhishingEmail.csv'))\n",
    "    print(f\"Number of rows: {size}\")\n",
    "    \n",
    "    counter = 1\n",
    "    progress = 0.05\n",
    "    for row in reader:\n",
    "        if counter/size >= progress:\n",
    "            print(f\"{int(progress*100)}% rows processed\")\n",
    "            progress += 0.05\n",
    "        mail = row[1]\n",
    "\n",
    "        # Extract possible url from the mail\n",
    "        url = ''\n",
    "        for word in mail.split():\n",
    "            if word[:4] == 'http':\n",
    "                url = word.replace(',', '')\n",
    "                break\n",
    "        # If no url found, skip the row\n",
    "        counter += 1\n",
    "        if len(url) < 10: continue\n",
    "\n",
    "        label = row[-1]\n",
    "        if label[0] == 's': label = 0 # 'safe email'\n",
    "        else: label = 1 # 'phishing email'\n",
    "        with open('main.csv', 'a', newline='', encoding='utf-8') as main_csv:\n",
    "            writer = csv.writer(main_csv)\n",
    "            writer.writerow([url, label])\n",
    "    print(\"done\")"
   ]
  },
  {
   "cell_type": "code",
   "execution_count": 59,
   "metadata": {},
   "outputs": [
    {
     "name": "stdout",
     "output_type": "stream",
     "text": [
      "Number of rows: 95911\n",
      "5% rows processed\n",
      "10% rows processed\n",
      "15% rows processed\n",
      "20% rows processed\n",
      "25% rows processed\n",
      "30% rows processed\n",
      "35% rows processed\n",
      "40% rows processed\n",
      "44% rows processed\n",
      "49% rows processed\n",
      "54% rows processed\n",
      "60% rows processed\n",
      "65% rows processed\n",
      "70% rows processed\n",
      "75% rows processed\n",
      "80% rows processed\n",
      "85% rows processed\n",
      "90% rows processed\n",
      "95% rows processed\n",
      "done\n"
     ]
    }
   ],
   "source": [
    "# Process the urlset.csv file to main csv accordingly\n",
    "with open('data/urlset.csv', 'r', encoding='utf-8') as urlset:\n",
    "    reader = csv.reader(urlset)\n",
    "    next(reader)\n",
    "    \n",
    "    size = len(pd.read_csv('data/urlset.csv', encoding='unicode_escape'))\n",
    "    print(f\"Number of rows: {size}\")\n",
    "    \n",
    "    counter = 1\n",
    "    progress = 0.05\n",
    "    for row in reader:\n",
    "        if counter/size >= progress:\n",
    "            print(f\"{int(progress*100)}% rows processed\")\n",
    "            progress += 0.05\n",
    "        url = row[0]\n",
    "        label = int(float(row[-1]))\n",
    "        with open('main.csv', 'a', newline='', encoding='utf-8') as main_csv:\n",
    "            writer = csv.writer(main_csv)\n",
    "            writer.writerow([url, label])\n",
    "        counter += 1\n",
    "    print(\"done\")"
   ]
  },
  {
   "cell_type": "code",
   "execution_count": 5,
   "metadata": {},
   "outputs": [],
   "source": [
    "# Remove duplicates from main.csv based on the urls column\n",
    "main_df = pd.read_csv('main.csv')\n",
    "main_df = main_df.drop_duplicates(subset=['url'])\n",
    "main_df.to_csv('main.csv', index=False)"
   ]
  },
  {
   "cell_type": "code",
   "execution_count": 12,
   "metadata": {},
   "outputs": [
    {
     "data": {
      "text/html": [
       "<div>\n",
       "<style scoped>\n",
       "    .dataframe tbody tr th:only-of-type {\n",
       "        vertical-align: middle;\n",
       "    }\n",
       "\n",
       "    .dataframe tbody tr th {\n",
       "        vertical-align: top;\n",
       "    }\n",
       "\n",
       "    .dataframe thead th {\n",
       "        text-align: right;\n",
       "    }\n",
       "</style>\n",
       "<table border=\"1\" class=\"dataframe\">\n",
       "  <thead>\n",
       "    <tr style=\"text-align: right;\">\n",
       "      <th></th>\n",
       "      <th>url</th>\n",
       "      <th>label</th>\n",
       "    </tr>\n",
       "  </thead>\n",
       "  <tbody>\n",
       "    <tr>\n",
       "      <th>0</th>\n",
       "      <td>www.voting-yahoo.com</td>\n",
       "      <td>1</td>\n",
       "    </tr>\n",
       "    <tr>\n",
       "      <th>1</th>\n",
       "      <td>www.zvon.org/xxl/WSDL1.1/Output/index.html</td>\n",
       "      <td>0</td>\n",
       "    </tr>\n",
       "    <tr>\n",
       "      <th>2</th>\n",
       "      <td>tecportais.com/file-security-update-infonfmati...</td>\n",
       "      <td>1</td>\n",
       "    </tr>\n",
       "    <tr>\n",
       "      <th>3</th>\n",
       "      <td>bima.astro.umd.edu/nemo/linuxastro/</td>\n",
       "      <td>0</td>\n",
       "    </tr>\n",
       "    <tr>\n",
       "      <th>4</th>\n",
       "      <td>huarui-tec.com/js/?us.battle.net/login/en/?ref...</td>\n",
       "      <td>1</td>\n",
       "    </tr>\n",
       "    <tr>\n",
       "      <th>5</th>\n",
       "      <td>diannaopeizhi.com/js/</td>\n",
       "      <td>1</td>\n",
       "    </tr>\n",
       "    <tr>\n",
       "      <th>6</th>\n",
       "      <td>www.synchrotech.com/support/install.html</td>\n",
       "      <td>0</td>\n",
       "    </tr>\n",
       "    <tr>\n",
       "      <th>7</th>\n",
       "      <td>www.ansi.okstate.edu/breeds/swine/largeblackwh...</td>\n",
       "      <td>0</td>\n",
       "    </tr>\n",
       "    <tr>\n",
       "      <th>8</th>\n",
       "      <td>www.strum.co.uk/webbery/</td>\n",
       "      <td>0</td>\n",
       "    </tr>\n",
       "    <tr>\n",
       "      <th>9</th>\n",
       "      <td>www.grok2.com/vi-emacs.html</td>\n",
       "      <td>0</td>\n",
       "    </tr>\n",
       "    <tr>\n",
       "      <th>10</th>\n",
       "      <td>www.pbs.org/newshour/topic/business/</td>\n",
       "      <td>0</td>\n",
       "    </tr>\n",
       "    <tr>\n",
       "      <th>11</th>\n",
       "      <td>expertwear.pk/img/glyph/1/beveilings/online/in...</td>\n",
       "      <td>1</td>\n",
       "    </tr>\n",
       "    <tr>\n",
       "      <th>12</th>\n",
       "      <td>tools.ietf.org/html/rfc1162</td>\n",
       "      <td>0</td>\n",
       "    </tr>\n",
       "    <tr>\n",
       "      <th>13</th>\n",
       "      <td>www.iwiwueyrtrueruie.x10.mx/paypal./PayPal/pay...</td>\n",
       "      <td>1</td>\n",
       "    </tr>\n",
       "    <tr>\n",
       "      <th>14</th>\n",
       "      <td>www.perl.com/pub/a/2001/07/25/onion.html</td>\n",
       "      <td>0</td>\n",
       "    </tr>\n",
       "  </tbody>\n",
       "</table>\n",
       "</div>"
      ],
      "text/plain": [
       "                                                  url  label\n",
       "0                                www.voting-yahoo.com      1\n",
       "1          www.zvon.org/xxl/WSDL1.1/Output/index.html      0\n",
       "2   tecportais.com/file-security-update-infonfmati...      1\n",
       "3                 bima.astro.umd.edu/nemo/linuxastro/      0\n",
       "4   huarui-tec.com/js/?us.battle.net/login/en/?ref...      1\n",
       "5                               diannaopeizhi.com/js/      1\n",
       "6            www.synchrotech.com/support/install.html      0\n",
       "7   www.ansi.okstate.edu/breeds/swine/largeblackwh...      0\n",
       "8                            www.strum.co.uk/webbery/      0\n",
       "9                         www.grok2.com/vi-emacs.html      0\n",
       "10               www.pbs.org/newshour/topic/business/      0\n",
       "11  expertwear.pk/img/glyph/1/beveilings/online/in...      1\n",
       "12                        tools.ietf.org/html/rfc1162      0\n",
       "13  www.iwiwueyrtrueruie.x10.mx/paypal./PayPal/pay...      1\n",
       "14           www.perl.com/pub/a/2001/07/25/onion.html      0"
      ]
     },
     "execution_count": 12,
     "metadata": {},
     "output_type": "execute_result"
    }
   ],
   "source": [
    "main_df = pd.read_csv('main.csv')\n",
    "main_df.head(15)"
   ]
  },
  {
   "cell_type": "code",
   "execution_count": 66,
   "metadata": {},
   "outputs": [],
   "source": [
    "# Top-Level Domain (TLD) Analysis\n",
    "# Extract the TLD from the urls\n",
    "main_df['tld'] = main_df['url'].str.extract(r'(?:\\.)([a-z]+)(?:\\/)', expand=False)"
   ]
  },
  {
   "cell_type": "code",
   "execution_count": 69,
   "metadata": {},
   "outputs": [
    {
     "data": {
      "image/png": "[encoded data removed]",
      "text/plain": [
       "<Figure size 1080x720 with 1 Axes>"
      ]
     },
     "metadata": {
      "needs_background": "light"
     },
     "output_type": "display_data"
    }
   ],
   "source": [
    "# Count the number of each TLD in phishing and malware urls\n",
    "tld_count = main_df.groupby(['tld', 'label']).size().reset_index(name='counts')\n",
    "tld_count = tld_count[tld_count['label'].isin([1, 3])]\n",
    "# remove the rows with the .com or .net TLD\n",
    "tld_count = tld_count[tld_count['tld'].isin(['com', 'net']) == False]\n",
    "tld_count = tld_count.groupby(['tld']).sum().reset_index()\n",
    "tld_count = tld_count.sort_values(by=['counts'], ascending=False)\n",
    "\n",
    "# plot the filtered TLD counts top 20 in a bar chart\n",
    "plt.figure(figsize=(15, 10))\n",
    "plt.bar(tld_count['tld'][:20], tld_count['counts'][:20])\n",
    "plt.xticks(size=15)\n",
    "plt.xlabel('TLD')\n",
    "plt.ylabel('Counts')\n",
    "plt.title('TLD in Phishing and Malware URLs')\n",
    "plt.show()\n"
   ]
  },
  {
   "cell_type": "code",
   "execution_count": null,
   "metadata": {},
   "outputs": [],
   "source": [
    "# Organization Domain Analysis\n",
    "# Main organization domains\n",
    "org_names = [\n",
    "    'gov.br',\n",
    "    'cielo',\n",
    "    'battle.net',\n",
    "    'steam',\n",
    "    'facebook',\n",
    "    'youtube',\n",
    "    'yahoo',\n",
    "    'wikipedia',\n",
    "    'baidu',\n",
    "    'reddit',\n",
    "    'taobao',\n",
    "    'tmall',\n",
    "    'amazon',\n",
    "    'twitter',\n",
    "    'live',\n",
    "    'bradesco',\n",
    "    'caixa',\n",
    "    'gov',\n",
    "    'itau',\n",
    "    'instagram',\n",
    "    'netflix',\n",
    "    'linkedin',\n",
    "    'twitch',\n",
    "    'microsoft',\n",
    "    'ebay',\n",
    "    'gmail',\n",
    "    'bing',\n",
    "    'tumblr',\n",
    "    'pinterest',\n",
    "    'paypal',\n",
    "    'wordpress',\n",
    "    'blogspot',\n",
    "    'apple',\n",
    "    'stackoverflow',\n",
    "    'github',\n",
    "    'adobe',\n",
    "    'dropbox',\n",
    "    'whatsapp',\n",
    "    'imdb',\n",
    "    'aliexpress',\n",
    "    'yandex',\n",
    "    'microsoftonline',\n",
    "    'doubleclick',\n",
    "    'google'   \n",
    "]\n",
    "# Extract the organization domain from the urls using the org_names\n",
    "joined_org_names = \"(\" + '|'.join(org_names) + \")\"\n",
    "main_df['org_names'] = main_df['url'].str.extract(joined_org_names, expand=False, flags=re.IGNORECASE)\n",
    "main_df['org_names'] = main_df['org_names'].fillna('other')\n",
    "# Make all organization domain names lowercase\n",
    "main_df['org_names'] = main_df['org_names'].str.lower()"
   ]
  },
  {
   "cell_type": "code",
   "execution_count": 64,
   "metadata": {},
   "outputs": [
    {
     "data": {
      "image/png": "[encoded data removed]",
      "text/plain": [
       "<Figure size 1080x720 with 1 Axes>"
      ]
     },
     "metadata": {
      "needs_background": "light"
     },
     "output_type": "display_data"
    }
   ],
   "source": [
    "# Count the number of each organization domain in phishing and malware urls\n",
    "org_count = main_df.groupby(['org_names', 'label']).size().reset_index(name='counts')\n",
    "org_count = org_count[org_count['label'].isin([1, 3])]\n",
    "org_count = org_count[org_count['org_names'] != 'other']\n",
    "org_count = org_count.groupby(['org_names']).sum().reset_index()\n",
    "org_count = org_count.sort_values(by=['counts'], ascending=False)\n",
    "\n",
    "# Plot the filtered organization domain counts top 20 in a bar chart\n",
    "plt.figure(figsize=(15, 10))\n",
    "plt.bar(org_count['org_names'][:20], org_count['counts'][:20])\n",
    "plt.xticks(size=15, rotation=45)\n",
    "plt.xlabel('Organization Domain')\n",
    "plt.ylabel('Counts')\n",
    "plt.title('Organization Domain in Phishing and Malware URLs')\n",
    "plt.show()"
   ]
  },
  {
   "cell_type": "code",
   "execution_count": null,
   "metadata": {},
   "outputs": [],
   "source": [
    "# Intended Actions Analisys:\n",
    "# Main possible intended actions from phishing and malware urls\n",
    "possible_actions = [\n",
    "    'login',\n",
    "    'limit',\n",
    "    'logon',\n",
    "    'signin',\n",
    "    'sign-in',\n",
    "    'log-in',\n",
    "    'account',\n",
    "    'banking',\n",
    "    'secure',\n",
    "    'security',\n",
    "    'confirm',\n",
    "    'update',\n",
    "    'verify',\n",
    "    'activation',\n",
    "    'confirmation',\n",
    "    'recover',\n",
    "    'restore',\n",
    "    'unlock',\n",
    "    'verification',\n",
    "    'validate',\n",
    "    'password'\n",
    "]\n",
    "\n",
    "# Extract the possible intended actions from the urls using the possible_actions\n",
    "joined_possible_actions = \"(\" + '|'.join(possible_actions) + \")\"\n",
    "main_df['possible_actions'] = main_df['url'].str.extract(joined_possible_actions, expand=False, flags=re.IGNORECASE)\n",
    "main_df['possible_actions'] = main_df['possible_actions'].fillna('other')\n",
    "# Make all possible intended actions lowercase\n",
    "main_df['possible_actions'] = main_df['possible_actions'].str.lower()"
   ]
  },
  {
   "cell_type": "code",
   "execution_count": 71,
   "metadata": {},
   "outputs": [
    {
     "data": {
      "image/png": "[encoded data removed]",
      "text/plain": [
       "<Figure size 1080x720 with 1 Axes>"
      ]
     },
     "metadata": {
      "needs_background": "light"
     },
     "output_type": "display_data"
    }
   ],
   "source": [
    "# Count the number of each possible intended actions in phishing and malware urls\n",
    "possible_actions_count = main_df.groupby(['possible_actions', 'label']).size().reset_index(name='counts')\n",
    "possible_actions_count = possible_actions_count[possible_actions_count['label'].isin([1, 3])]\n",
    "possible_actions_count = possible_actions_count[possible_actions_count['possible_actions'] != 'other']\n",
    "possible_actions_count = possible_actions_count.groupby(['possible_actions']).sum().reset_index()\n",
    "possible_actions_count = possible_actions_count.sort_values(by=['counts'], ascending=False)\n",
    "\n",
    "# Plot the filtered possible intended actions counts top 20 in a bar chart\n",
    "plt.figure(figsize=(15, 10))\n",
    "plt.bar(possible_actions_count['possible_actions'][:20], possible_actions_count['counts'][:20])\n",
    "plt.xticks(size=15, rotation=45)\n",
    "plt.xlabel('Possible Intended Actions')\n",
    "plt.ylabel('Counts')\n",
    "plt.title('Possible Intended Actions in Phishing and Malware URLs')\n",
    "plt.show()"
   ]
  },
  {
   "cell_type": "code",
   "execution_count": null,
   "metadata": {},
   "outputs": [],
   "source": [
    "# File Types Analysis:\n",
    "# Main file types\n",
    "file_types = [\n",
    "    'exe',\n",
    "    'pdf',\n",
    "    'zip',\n",
    "    'doc',\n",
    "    'docx',\n",
    "    'xls',\n",
    "    'xlsx',\n",
    "    'ppt',\n",
    "    'pptx',\n",
    "    'txt',\n",
    "    'rar',\n",
    "    'mp3',\n",
    "    'mp4',\n",
    "    'avi',\n",
    "    'jpg',\n",
    "    'jpeg',\n",
    "    'png',\n",
    "    'gif',\n",
    "    'svg',\n",
    "    'js',\n",
    "    'css',\n",
    "    'html',\n",
    "    'php',\n",
    "    'asp',\n",
    "    'aspx',\n",
    "    'jsp',\n",
    "    'xml',\n",
    "    'json',\n",
    "    'sql',\n",
    "    'py',\n",
    "    'cpp',\n",
    "    'cs',\n",
    "    'java',\n",
    "    'pl',\n",
    "    'sh',\n",
    "    'bat',\n",
    "    'vbs',\n",
    "    'ps1',\n",
    "    'psm1',\n",
    "    'psd1',\n",
    "    'ps1xml',\n",
    "    'clixml',\n",
    "    'pssc',\n",
    "    'cdxml',\n",
    "    'xaml',\n",
    "    'wsf',\n",
    "    'config',\n",
    "    'reg',\n",
    "    'ini',\n",
    "    'bak',\n",
    "    'tmp',\n",
    "    'log',\n",
    "    'cmd',\n",
    "    'vb',\n",
    "    'vbe',\n",
    "    'vbscript',\n",
    "    'ws',\n",
    "    'wsf',\n",
    "    'wsc',\n",
    "    'wsh',\n",
    "    'msi'\n",
    "]\n",
    "\n",
    "# Extract the file types from the urls using the file_types\n",
    "joined_file_types = \"(?:\\.)(\" + '|'.join(file_types) + \")\"\n",
    "main_df['file_types'] = main_df['url'].str.extract(joined_file_types, expand=False, flags=re.IGNORECASE)\n",
    "main_df['file_types'] = main_df['file_types'].fillna('other')\n",
    "# Make all file types lowercase\n",
    "main_df['file_types'] = main_df['file_types'].str.lower()"
   ]
  },
  {
   "cell_type": "code",
   "execution_count": 60,
   "metadata": {},
   "outputs": [
    {
     "data": {
      "image/png": "[encoded data removed]",
      "text/plain": [
       "<Figure size 1080x720 with 1 Axes>"
      ]
     },
     "metadata": {
      "needs_background": "light"
     },
     "output_type": "display_data"
    }
   ],
   "source": [
    "# Count the number of each file types in phishing and malware urls\n",
    "file_types_count = main_df.groupby(['file_types', 'label']).size().reset_index(name='counts')\n",
    "file_types_count = file_types_count[file_types_count['label'].isin([1, 3])]\n",
    "file_types_count = file_types_count[file_types_count['file_types'] != 'other']\n",
    "file_types_count = file_types_count.groupby(['file_types']).sum().reset_index()\n",
    "file_types_count = file_types_count.sort_values(by=['counts'], ascending=False)\n",
    "\n",
    "# Plot the filtered file types counts top 20 in a bar chart\n",
    "plt.figure(figsize=(15, 10))\n",
    "plt.bar(file_types_count['file_types'][:20], file_types_count['counts'][:20])\n",
    "plt.xticks(size=15, rotation=45)\n",
    "plt.xlabel('File Types')\n",
    "plt.ylabel('Counts')\n",
    "plt.title('File Types in Phishing and Malware URLs')\n",
    "plt.show()"
   ]
  },
  {
   "cell_type": "code",
   "execution_count": null,
   "metadata": {},
   "outputs": [],
   "source": [
    "# HTTPS Analysis:\n",
    "# Extract the http and https from the urls\n",
    "main_df['http_s'] = main_df['url'].str.extract(r'(http[s]?\\:\\/\\/)', expand=False)\n",
    "main_df['http_s'] = main_df['http_s'].fillna('other')"
   ]
  },
  {
   "cell_type": "code",
   "execution_count": 70,
   "metadata": {},
   "outputs": [
    {
     "data": {
      "image/png": "[encoded data removed]",
      "text/plain": [
       "<Figure size 1080x720 with 1 Axes>"
      ]
     },
     "metadata": {
      "needs_background": "light"
     },
     "output_type": "display_data"
    }
   ],
   "source": [
    "# Count the number of each http and https in phishing and malware urls\n",
    "http_s_count = main_df.groupby(['http_s', 'label']).size().reset_index(name='counts')\n",
    "http_s_count = http_s_count[http_s_count['label'].isin([1, 3])]\n",
    "http_s_count = http_s_count[http_s_count['http_s'] != 'other']\n",
    "http_s_count = http_s_count.sort_values(by=['counts'], ascending=False)\n",
    "http_s_count = http_s_count.groupby(['http_s']).sum().reset_index()\n",
    "\n",
    "# Plot the filtered http and https counts top 2 in a bar chart\n",
    "plt.figure(figsize=(15, 10))\n",
    "plt.bar(http_s_count['http_s'][:4], http_s_count['counts'][:4])\n",
    "plt.xticks(size=15, rotation=45)\n",
    "plt.xlabel('HTTP and HTTPS')\n",
    "plt.ylabel('Counts')\n",
    "plt.title('HTTP and HTTPS in Phishing and Malware URLs')\n",
    "plt.show()"
   ]
  },
  {
   "cell_type": "code",
   "execution_count": null,
   "metadata": {},
   "outputs": [],
   "source": [
    "# Remove all http://www. and https://www. from the urls\n",
    "main_df['url'] = main_df['url'].str.replace(r'(http[s]?\\:\\/\\/www\\.)|(www\\.)', '')"
   ]
  },
  {
   "cell_type": "code",
   "execution_count": null,
   "metadata": {},
   "outputs": [],
   "source": [
    "\n",
    "# "
   ]
  }
 ],
 "metadata": {
  "kernelspec": {
   "display_name": "Python 3",
   "language": "python",
   "name": "python3"
  },
  "language_info": {
   "codemirror_mode": {
    "name": "ipython",
    "version": 3
   },
   "file_extension": ".py",
   "mimetype": "text/x-python",
   "name": "python",
   "nbconvert_exporter": "python",
   "pygments_lexer": "ipython3",
   "version": "3.9.1"
  }
 },
 "nbformat": 4,
 "nbformat_minor": 2
}
